{
 "cells": [
  {
   "cell_type": "code",
   "execution_count": 1,
   "metadata": {},
   "outputs": [
    {
     "name": "stdout",
     "output_type": "stream",
     "text": [
      "Defaulting to user installation because normal site-packages is not writeable\n",
      "Requirement already satisfied: cryptography in d:\\kamal\\softwares\\anaconda\\lib\\site-packages (3.1.1)\n",
      "Requirement already satisfied: six>=1.4.1 in d:\\kamal\\softwares\\anaconda\\lib\\site-packages (from cryptography) (1.15.0)\n",
      "Requirement already satisfied: cffi!=1.11.3,>=1.8 in d:\\kamal\\softwares\\anaconda\\lib\\site-packages (from cryptography) (1.14.3)\n",
      "Requirement already satisfied: pycparser in d:\\kamal\\softwares\\anaconda\\lib\\site-packages (from cffi!=1.11.3,>=1.8->cryptography) (2.20)\n"
     ]
    }
   ],
   "source": [
    "!pip install cryptography"
   ]
  },
  {
   "cell_type": "code",
   "execution_count": 2,
   "metadata": {},
   "outputs": [],
   "source": [
    "from cryptography.fernet import Fernet"
   ]
  },
  {
   "cell_type": "code",
   "execution_count": 3,
   "metadata": {},
   "outputs": [],
   "source": [
    "def generateKey():\n",
    "    key = Fernet.generate_key()\n",
    "    print(key)\n",
    "    print(type(key))\n",
    "    myKey = open(\"myKey.key\", \"wb\")\n",
    "    myKey.write(key)\n",
    "    myKey.close()"
   ]
  },
  {
   "cell_type": "code",
   "execution_count": 4,
   "metadata": {},
   "outputs": [],
   "source": [
    "def getKey():\n",
    "    myKey = open(\"MyKey.key\", \"rb\")\n",
    "    key = myKey.read()\n",
    "    myKey.close()\n",
    "    return key"
   ]
  },
  {
   "cell_type": "code",
   "execution_count": 5,
   "metadata": {},
   "outputs": [],
   "source": [
    "def getContent():\n",
    "    return input(\"Enter some content\")"
   ]
  },
  {
   "cell_type": "code",
   "execution_count": 6,
   "metadata": {},
   "outputs": [],
   "source": [
    "def encryptContent(original_Content):\n",
    "    key = getKey()\n",
    "    k = Fernet(key)\n",
    "    encrypted_Content = k.encrypt(original_Content)\n",
    "    return encrypted_Content"
   ]
  },
  {
   "cell_type": "code",
   "execution_count": 7,
   "metadata": {},
   "outputs": [],
   "source": [
    "def decryptContent(secret_Content):\n",
    "    key = getKey()\n",
    "    k = Fernet(key)\n",
    "    decrypted_Content = k.decrypt(secret_Content)\n",
    "    return decrypted_Content"
   ]
  },
  {
   "cell_type": "code",
   "execution_count": 8,
   "metadata": {},
   "outputs": [
    {
     "name": "stdout",
     "output_type": "stream",
     "text": [
      "b'O5DpJXEPvCaZYgtCBUM_qM_bcJM91xnzitzGV7Wv8Eo='\n",
      "<class 'bytes'>\n"
     ]
    }
   ],
   "source": [
    "generateKey()"
   ]
  },
  {
   "cell_type": "code",
   "execution_count": 9,
   "metadata": {},
   "outputs": [
    {
     "data": {
      "text/plain": [
       "b'O5DpJXEPvCaZYgtCBUM_qM_bcJM91xnzitzGV7Wv8Eo='"
      ]
     },
     "execution_count": 9,
     "metadata": {},
     "output_type": "execute_result"
    }
   ],
   "source": [
    "getKey()"
   ]
  },
  {
   "cell_type": "code",
   "execution_count": 10,
   "metadata": {},
   "outputs": [
    {
     "name": "stdout",
     "output_type": "stream",
     "text": [
      "Enter some content7896\n"
     ]
    },
    {
     "data": {
      "text/plain": [
       "'7896'"
      ]
     },
     "execution_count": 10,
     "metadata": {},
     "output_type": "execute_result"
    }
   ],
   "source": [
    "getContent()"
   ]
  },
  {
   "cell_type": "code",
   "execution_count": 11,
   "metadata": {},
   "outputs": [
    {
     "data": {
      "text/plain": [
       "b'gAAAAABf3JzNl15Ef6zMsmvYLVQKlddolQQaiQxhPRCtW1DOOLyi1n7lt53ETj89FshFqsxcIcwJcDCLLHdRdBIcbOLddpQUmA=='"
      ]
     },
     "execution_count": 11,
     "metadata": {},
     "output_type": "execute_result"
    }
   ],
   "source": [
    "encryptContent(b'I am Movika')"
   ]
  },
  {
   "cell_type": "code",
   "execution_count": 13,
   "metadata": {},
   "outputs": [
    {
     "data": {
      "text/plain": [
       "b'I am Movika'"
      ]
     },
     "execution_count": 13,
     "metadata": {},
     "output_type": "execute_result"
    }
   ],
   "source": [
    "decryptContent(b'gAAAAABf3JzNl15Ef6zMsmvYLVQKlddolQQaiQxhPRCtW1DOOLyi1n7lt53ETj89FshFqsxcIcwJcDCLLHdRdBIcbOLddpQUmA==')"
   ]
  },
  {
   "cell_type": "code",
   "execution_count": null,
   "metadata": {},
   "outputs": [],
   "source": []
  }
 ],
 "metadata": {
  "kernelspec": {
   "display_name": "Python 3",
   "language": "python",
   "name": "python3"
  },
  "language_info": {
   "codemirror_mode": {
    "name": "ipython",
    "version": 3
   },
   "file_extension": ".py",
   "mimetype": "text/x-python",
   "name": "python",
   "nbconvert_exporter": "python",
   "pygments_lexer": "ipython3",
   "version": "3.8.5"
  }
 },
 "nbformat": 4,
 "nbformat_minor": 4
}
